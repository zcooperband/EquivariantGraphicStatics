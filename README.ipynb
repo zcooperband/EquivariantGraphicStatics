{
 "cells": [
  {
   "cell_type": "markdown",
   "metadata": {},
   "source": [
    "# Equivariant Graphic Statics\n",
    "This project investigates graphic statics of a symmetric framework and its irreducible components."
   ]
  },
  {
   "cell_type": "code",
   "execution_count": 1,
   "metadata": {},
   "outputs": [
    {
     "ename": "ModuleNotFoundError",
     "evalue": "No module named 'cell_complex'",
     "output_type": "error",
     "traceback": [
      "\u001b[1;31m---------------------------------------------------------------------------\u001b[0m",
      "\u001b[1;31mModuleNotFoundError\u001b[0m                       Traceback (most recent call last)",
      "\u001b[1;32m<ipython-input-1-6ba5524283b5>\u001b[0m in \u001b[0;36m<module>\u001b[1;34m\u001b[0m\n\u001b[0;32m      1\u001b[0m \u001b[1;32mimport\u001b[0m \u001b[0mCODE\u001b[0m\u001b[1;33m.\u001b[0m\u001b[0mcosheaves\u001b[0m\u001b[1;33m\u001b[0m\u001b[1;33m\u001b[0m\u001b[0m\n\u001b[1;32m----> 2\u001b[1;33m \u001b[1;32mimport\u001b[0m \u001b[0mCODE\u001b[0m\u001b[1;33m.\u001b[0m\u001b[0msamples\u001b[0m\u001b[1;33m\u001b[0m\u001b[1;33m\u001b[0m\u001b[0m\n\u001b[0m\u001b[0;32m      3\u001b[0m \u001b[1;32mimport\u001b[0m \u001b[0mCODE\u001b[0m\u001b[1;33m.\u001b[0m\u001b[0mtests\u001b[0m\u001b[1;33m\u001b[0m\u001b[1;33m\u001b[0m\u001b[0m\n",
      "\u001b[1;32mc:\\Users\\Zoe\\Documents\\GitHub\\EquivariantGraphicStatics\\CODE\\samples.py\u001b[0m in \u001b[0;36m<module>\u001b[1;34m\u001b[0m\n\u001b[0;32m      1\u001b[0m \u001b[1;32mimport\u001b[0m \u001b[0mmath\u001b[0m\u001b[1;33m\u001b[0m\u001b[1;33m\u001b[0m\u001b[0m\n\u001b[0;32m      2\u001b[0m \u001b[1;32mimport\u001b[0m \u001b[0mnumpy\u001b[0m \u001b[1;32mas\u001b[0m \u001b[0mnp\u001b[0m\u001b[1;33m\u001b[0m\u001b[1;33m\u001b[0m\u001b[0m\n\u001b[1;32m----> 3\u001b[1;33m \u001b[1;32mfrom\u001b[0m \u001b[0mcell_complex\u001b[0m \u001b[1;32mimport\u001b[0m \u001b[1;33m*\u001b[0m\u001b[1;33m\u001b[0m\u001b[1;33m\u001b[0m\u001b[0m\n\u001b[0m\u001b[0;32m      4\u001b[0m \u001b[1;32mfrom\u001b[0m \u001b[0mgroup_actions\u001b[0m \u001b[1;32mimport\u001b[0m \u001b[1;33m*\u001b[0m\u001b[1;33m\u001b[0m\u001b[1;33m\u001b[0m\u001b[0m\n\u001b[0;32m      5\u001b[0m \u001b[1;33m\u001b[0m\u001b[0m\n",
      "\u001b[1;31mModuleNotFoundError\u001b[0m: No module named 'cell_complex'"
     ]
    }
   ],
   "source": [
    "import CODE.cosheaves\n",
    "import CODE.samples\n",
    "import CODE.tests"
   ]
  },
  {
   "cell_type": "markdown",
   "metadata": {},
   "source": [
    "The module *samples* contains many sample framework geometries. Calling a function in sample returns a pair **(cell_complex, action)** where **cell_complex** encodes cell combinatorics and **action** encodes the specified group action on the vertices of the **cell_complex**."
   ]
  },
  {
   "cell_type": "code",
   "execution_count": null,
   "metadata": {},
   "outputs": [
    {
     "ename": "",
     "evalue": "",
     "output_type": "error",
     "traceback": [
      "\u001b[1;31mRunning cells with 'c:\\Program Files\\Inkscape\\bin\\python.exe' requires the ipykernel package.\n",
      "\u001b[1;31mRun the following command to install 'ipykernel' into the Python environment. \n",
      "\u001b[1;31mCommand: '\"c:/Program Files/Inkscape/bin/python.exe\" -m pip install ipykernel -U --user --force-reinstall'"
     ]
    }
   ],
   "source": [
    "cell_complex, action = samples.boxed()\n",
    "print(\"Plotting Framework:\")\n",
    "cell_complex.plot()\n",
    "action.print_char_table()"
   ]
  },
  {
   "cell_type": "markdown",
   "metadata": {},
   "source": [
    "The module *cosheaves* contains the force $\\mathcal{F}$, constant $\\overline{\\mathbb{R}^2}$, and position $\\mathcal{P}$ cosheaf classes. We check  that these are well-defined and the cosheaf maps that pass between are valid by running **tests.run_tests(F,J,P)**. These ensure that all the commutitive squares between the boundary maps, cosheaf maps, and cosheaf representations (for each group generators) are satisfied."
   ]
  },
  {
   "cell_type": "code",
   "execution_count": null,
   "metadata": {},
   "outputs": [
    {
     "ename": "",
     "evalue": "",
     "output_type": "error",
     "traceback": [
      "\u001b[1;31mRunning cells with 'c:\\Program Files\\Inkscape\\bin\\python.exe' requires the ipykernel package.\n",
      "\u001b[1;31mRun the following command to install 'ipykernel' into the Python environment. \n",
      "\u001b[1;31mCommand: '\"c:/Program Files/Inkscape/bin/python.exe\" -m pip install ipykernel -U --user --force-reinstall'"
     ]
    }
   ],
   "source": [
    "J = cosheaves.constant_cosheaf(cell_complex, action)\n",
    "F = cosheaves.force_cosheaf(cell_complex, action)\n",
    "P = cosheaves.position_cosheaf(cell_complex, action)\n",
    "\n",
    "tests.run_tests(F,J,P)"
   ]
  },
  {
   "cell_type": "markdown",
   "metadata": {},
   "source": [
    "Everything looking good! The first homology $H_1 \\mathcal{F}$ encodes the self-stresses of the framework and is computed using the method **F.homology(dim)**. There is one degree of self-stress in this example. By classical graphic statics, there are three degrees of reciprocal diagrams for this example, the dimension of $H_2 \\mathcal{P}$. We can plot the reciprocal diagram and the corresponding self-stress with the method **P.plot_both**. "
   ]
  },
  {
   "cell_type": "code",
   "execution_count": null,
   "metadata": {},
   "outputs": [
    {
     "ename": "",
     "evalue": "",
     "output_type": "error",
     "traceback": [
      "\u001b[1;31mRunning cells with 'c:\\Program Files\\Inkscape\\bin\\python.exe' requires the ipykernel package.\n",
      "\u001b[1;31mRun the following command to install 'ipykernel' into the Python environment. \n",
      "\u001b[1;31mCommand: '\"c:/Program Files/Inkscape/bin/python.exe\" -m pip install ipykernel -U --user --force-reinstall'"
     ]
    }
   ],
   "source": [
    "\n",
    "print(\"Homology space dimensions:\")\n",
    "print(\"   Force  Constant  Position\")\n",
    "print(\"H_2:\", F.homology_dim(2), \"------\", J.homology_dim(2), \"------\", P.homology_dim(2))\n",
    "print(\"H_1:\", F.homology_dim(1), \"------\", J.homology_dim(1), \"------\", P.homology_dim(1))\n",
    "print(\"H_0:\", F.homology_dim(0), \"------\", J.homology_dim(0), \"------\", P.homology_dim(0))\n",
    "\n",
    "print(\"\\n\")\n",
    "print(\"Basis for self-stresses\")\n",
    "print(F.homology(1))\n",
    "\n",
    "#There is one degree of self-stress, so we choose to plot this first dimension only\n",
    "print(\"\\nSelf stress from the force cosheaf\")\n",
    "F.plot_self_stress([1])\n",
    "#If there were two degrees of self-stress, we could imput:  F.plot_self_stress([0.5, 0.5]) for the average of both generators.\n",
    "\n",
    "print(\"Reciprocal diagram from the position cosheaf and matched self-stress\")\n",
    "P.plot_both([1, 0, 0])\n",
    "#The vector [1,0,0] corresponds to choosing the first basis generator of H_2 P"
   ]
  },
  {
   "cell_type": "markdown",
   "metadata": {},
   "source": [
    "We can distinguish the self-stress - reciprocal diagram pairs by irreducible representation of the underlying group. We observe that the only non-trivial self-stress - reciprocal diagram pair above corresponds to the first (trivial) irreducible representation of $D_8$."
   ]
  },
  {
   "cell_type": "code",
   "execution_count": null,
   "metadata": {},
   "outputs": [
    {
     "ename": "",
     "evalue": "",
     "output_type": "error",
     "traceback": [
      "\u001b[1;31mRunning cells with 'c:\\Program Files\\Inkscape\\bin\\python.exe' requires the ipykernel package.\n",
      "\u001b[1;31mRun the following command to install 'ipykernel' into the Python environment. \n",
      "\u001b[1;31mCommand: '\"c:/Program Files/Inkscape/bin/python.exe\" -m pip install ipykernel -U --user --force-reinstall'"
     ]
    }
   ],
   "source": [
    "#Function that outputs the reciprocal pairs, grouped by irreducible\n",
    "def irreducible_pairs(force_cosheaf, constant_cosheaf, position_cosheaf):\n",
    "    Fhomology_char = [force_cosheaf.homology_irred_char(i) for i in range(0, 3)]\n",
    "    Jhomology_char = [constant_cosheaf.homology_irred_char(i) for i in range(0, 3)]\n",
    "    Phomology_char = [position_cosheaf.homology_irred_char(i) for i in range(0, 3)]\n",
    "    P_irred_basis = position_cosheaf.homology_irred_basis(2)\n",
    "    char_dims = force_cosheaf.group_action.regular_char()\n",
    "\n",
    "    for i in range(0, force_cosheaf.group_action.num_conjugacy_classes()):\n",
    "        print(\"Irreducible number:\", i, \"Dimension:\", char_dims[i])\n",
    "        print(\"Dimensions of the irreducible cosheaf homology:\")\n",
    "        print(\"     F --R^2-- P\")\n",
    "        print(\"H_2:\", int(Fhomology_char[2][i]), \"--\", int(Jhomology_char[2][i]), \"--\", int(Phomology_char[2][i]) )\n",
    "        print(\"H_1:\", int(Fhomology_char[1][i]), \"--\", int(Jhomology_char[1][i]), \"--\", int(Phomology_char[1][i]) )\n",
    "        print(\"H_0:\", int(Fhomology_char[0][i]), \"--\", int(Jhomology_char[0][i]), \"--\", int(Phomology_char[0][i]) )\n",
    "        if bool(P_irred_basis):    #If there exists a reciprocal figure\n",
    "            #Center the figure\n",
    "            non_constant_pos = position_cosheaf.remove_constant_component(P_irred_basis[i])\n",
    "            for j in range(0, non_constant_pos.shape[1]):\n",
    "                posvec = non_constant_pos[:,j]\n",
    "                position_cosheaf.plot_both(posvec)\n",
    "        print(\"-------------------------------------------------------------------------------------------\")\n",
    "\n",
    "\n",
    "\n",
    "#Evaluate the function on our cosheaves\n",
    "irreducible_pairs(F,J,P)"
   ]
  },
  {
   "cell_type": "markdown",
   "metadata": {},
   "source": [
    "We observe that the two degrees of translation correspond to the last irreducible representation of $D_8$. This irreducible has dimension 2. This framework isn't that interesting, so we consider the **klein_four** sample with $D_4$ symmetry."
   ]
  },
  {
   "cell_type": "code",
   "execution_count": null,
   "metadata": {},
   "outputs": [
    {
     "ename": "",
     "evalue": "",
     "output_type": "error",
     "traceback": [
      "\u001b[1;31mRunning cells with 'c:\\Program Files\\Inkscape\\bin\\python.exe' requires the ipykernel package.\n",
      "\u001b[1;31mRun the following command to install 'ipykernel' into the Python environment. \n",
      "\u001b[1;31mCommand: '\"c:/Program Files/Inkscape/bin/python.exe\" -m pip install ipykernel -U --user --force-reinstall'"
     ]
    }
   ],
   "source": [
    "cell_complex2, action2 = samples.klein_four()\n",
    "J2 = cosheaves.constant_cosheaf(cell_complex2, action2)\n",
    "F2 = cosheaves.force_cosheaf(cell_complex2, action2)\n",
    "P2 = cosheaves.position_cosheaf(cell_complex2, action2)\n",
    "\n",
    "print(\"\\n-----------------------------------------------\")\n",
    "irreducible_pairs(F2, J2, P2)\n"
   ]
  }
 ],
 "metadata": {
  "kernelspec": {
   "display_name": "Python 3",
   "language": "python",
   "name": "python3"
  },
  "language_info": {
   "codemirror_mode": {
    "name": "ipython",
    "version": 3
   },
   "file_extension": ".py",
   "mimetype": "text/x-python",
   "name": "python",
   "nbconvert_exporter": "python",
   "pygments_lexer": "ipython3",
   "version": "3.8.3"
  }
 },
 "nbformat": 4,
 "nbformat_minor": 2
}
